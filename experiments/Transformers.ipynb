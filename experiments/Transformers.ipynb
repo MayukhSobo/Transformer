{
 "cells": [
  {
   "cell_type": "code",
   "execution_count": 1,
   "id": "2792f1b0",
   "metadata": {},
   "outputs": [],
   "source": [
    "# Add project root to sys.path for absolute imports\n",
    "import sys\n",
    "from pathlib import Path\n",
    "project_root = Path().resolve().parent\n",
    "if str(project_root) not in sys.path:\n",
    "    sys.path.insert(0, str(project_root))\n",
    "if project_root.parent not in sys.path:\n",
    "    sys.path.insert(0, str(project_root.parent))"
   ]
  },
  {
   "cell_type": "code",
   "execution_count": 2,
   "id": "272014c4-dcf5-4966-8a69-2beb2297be6a",
   "metadata": {},
   "outputs": [],
   "source": [
    "from transformer.model_encoder import TransformerEncoder"
   ]
  },
  {
   "cell_type": "code",
   "execution_count": 3,
   "id": "dc12417e",
   "metadata": {},
   "outputs": [],
   "source": [
    "# Add a device based on the availability of GPU\n",
    "import torch\n",
    "device = torch.device(\"cuda\" if torch.cuda.is_available() else \"cpu\")"
   ]
  },
  {
   "cell_type": "code",
   "execution_count": 4,
   "id": "6c7ff5f3-7538-42ee-9cad-58905e3d1bb1",
   "metadata": {},
   "outputs": [],
   "source": [
    "encoder = TransformerEncoder(\n",
    "    vocab_size=52027,\n",
    "    hidden_size=512,\n",
    "    seq_len=1024,\n",
    "    dropout_pe=0.1,\n",
    "    n_layers=6,\n",
    "    n_heads=8,\n",
    "    ff_size=2048,\n",
    "    d_k=64\n",
    ").to(device)"
   ]
  },
  {
   "cell_type": "code",
   "execution_count": 12,
   "id": "923b8e7b",
   "metadata": {},
   "outputs": [],
   "source": [
    "from dataset import load_data, TinyStoryDataset\n",
    "from pathlib import Path\n",
    "DATASET = Path(\"../data/TinyStories.txt\")"
   ]
  },
  {
   "cell_type": "code",
   "execution_count": 14,
   "id": "193ed982",
   "metadata": {},
   "outputs": [],
   "source": [
    "data = load_data(DATASET)"
   ]
  },
  {
   "cell_type": "code",
   "execution_count": 15,
   "id": "17f5eee8",
   "metadata": {},
   "outputs": [
    {
     "data": {
      "text/plain": [
       "1904212639"
      ]
     },
     "execution_count": 15,
     "metadata": {},
     "output_type": "execute_result"
    }
   ],
   "source": [
    "len(data)"
   ]
  },
  {
   "cell_type": "code",
   "execution_count": 16,
   "id": "28811837",
   "metadata": {},
   "outputs": [],
   "source": [
    "from tokenizer import get_tokenizer"
   ]
  },
  {
   "cell_type": "code",
   "execution_count": 17,
   "id": "c9978a1b",
   "metadata": {},
   "outputs": [],
   "source": [
    "tokenizer = get_tokenizer(\n",
    "    tokenizer_kind='tiktoken',\n",
    "    tokenizer_model='gpt2',\n",
    "    vocab_size=52027,\n",
    "    data=data\n",
    ")"
   ]
  },
  {
   "cell_type": "code",
   "execution_count": 18,
   "id": "9b06902f",
   "metadata": {},
   "outputs": [],
   "source": [
    "dataset = TinyStoryDataset(seq_len=1024, tokenizer=tokenizer)"
   ]
  },
  {
   "cell_type": "code",
   "execution_count": 19,
   "id": "e73a6dc6",
   "metadata": {},
   "outputs": [
    {
     "name": "stdout",
     "output_type": "stream",
     "text": [
      "Tokenization took 130.92 seconds\n"
     ]
    },
    {
     "data": {
      "text/plain": [
       "476111723"
      ]
     },
     "execution_count": 19,
     "metadata": {},
     "output_type": "execute_result"
    }
   ],
   "source": [
    "dataset.tokenize(raw_data=data)"
   ]
  },
  {
   "cell_type": "code",
   "execution_count": null,
   "id": "8fa52cd2",
   "metadata": {},
   "outputs": [],
   "source": []
  }
 ],
 "metadata": {
  "kernelspec": {
   "display_name": ".venv",
   "language": "python",
   "name": "python3"
  },
  "language_info": {
   "codemirror_mode": {
    "name": "ipython",
    "version": 3
   },
   "file_extension": ".py",
   "mimetype": "text/x-python",
   "name": "python",
   "nbconvert_exporter": "python",
   "pygments_lexer": "ipython3",
   "version": "3.13.0"
  }
 },
 "nbformat": 4,
 "nbformat_minor": 5
}
